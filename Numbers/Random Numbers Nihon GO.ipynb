{
 "cells": [
  {
   "cell_type": "code",
   "execution_count": 1,
   "id": "2a21127c-9edf-40c6-82b9-637a5011dafb",
   "metadata": {},
   "outputs": [],
   "source": [
    "import random as rd"
   ]
  },
  {
   "cell_type": "code",
   "execution_count": 131,
   "id": "cbf4ec44-6942-4745-ba37-7e4d75243a11",
   "metadata": {
    "scrolled": true
   },
   "outputs": [],
   "source": [
    "def get_rand(input_list = [1, 999999]):\n",
    "    rand_int = rd.randint(input_list[0], input_list[1])\n",
    "    rand_int_str = str(rand_int)\n",
    "\n",
    "    return rand_int_str"
   ]
  },
  {
   "cell_type": "code",
   "execution_count": 159,
   "id": "e760225a-5c45-47a1-8aca-19ae22c71a49",
   "metadata": {},
   "outputs": [],
   "source": [
    "numbers_dict = {\n",
    "    0: \"\",\n",
    "    1: \"ichi\",\n",
    "    2: \"ni\",\n",
    "    3: \"san\",\n",
    "    4: \"yon\",\n",
    "    5: \"go\",\n",
    "    6: \"roku\",\n",
    "    7: \"nana\",\n",
    "    8: \"hachi\",\n",
    "    9: \"kyuu\",\n",
    "    10: \"juu\",\n",
    "    100: \"hyaku\",\n",
    "    1000: \"sen\",\n",
    "    10000: \"man\"\n",
    "}"
   ]
  },
  {
   "cell_type": "code",
   "execution_count": 4,
   "id": "586b7b48-4723-4020-97e6-05ac4980d217",
   "metadata": {},
   "outputs": [],
   "source": [
    "my_int, my_str = get_rand()"
   ]
  },
  {
   "cell_type": "code",
   "execution_count": null,
   "id": "750fa4d6-6a2e-4759-9a55-7da8fc772066",
   "metadata": {},
   "outputs": [],
   "source": [
    "spelled_int = ''"
   ]
  },
  {
   "cell_type": "code",
   "execution_count": null,
   "id": "d1d53c89-ad12-45a0-b33c-774438327970",
   "metadata": {
    "scrolled": true
   },
   "outputs": [],
   "source": [
    "for i in range(0, len(gen_str)):\n",
    "    print(gen_str[i])"
   ]
  },
  {
   "cell_type": "code",
   "execution_count": 112,
   "id": "a7f39b4e-3017-4ea1-9ff6-8c946488ca1e",
   "metadata": {},
   "outputs": [],
   "source": [
    "def write_num(gen_str):\n",
    "    man_counter = 0\n",
    "    for i in range(0, len(gen_str)):\n",
    "            if len(gen_str) == 6:  \n",
    "                print(numbers_dict[int(gen_str[i])])            \n",
    "                if man_counter == 0:\n",
    "                    print(numbers_dict[10])   \n",
    "                    \n",
    "                if man_counter == 1:\n",
    "                    print(numbers_dict[10000])\n",
    "                    \n",
    "                if man_counter == 2:\n",
    "                    if int(gen_str[i]) != 0:\n",
    "                        print(numbers_dict[1000])\n",
    "                    \n",
    "                if man_counter == 3:\n",
    "                    if int(gen_str[i]) != 0:\n",
    "                        print(numbers_dict[100])\n",
    "                    \n",
    "                if man_counter == 4:\n",
    "                    if int(gen_str[i]) != 0:\n",
    "                        print(numbers_dict[10])\n",
    "                \n",
    "            man_counter += 1"
   ]
  },
  {
   "cell_type": "code",
   "execution_count": 116,
   "id": "d003a11b-4e3e-4215-a8ed-c7291604c68b",
   "metadata": {},
   "outputs": [
    {
     "name": "stdout",
     "output_type": "stream",
     "text": [
      "933338\n",
      "kyuu\n",
      "juu\n",
      "san\n",
      "man\n",
      "san\n",
      "sen\n",
      "san\n",
      "hyaku\n",
      "san\n",
      "juu\n",
      "hachi\n"
     ]
    }
   ],
   "source": [
    "#test = '400002'\n",
    "test = get_rand()\n",
    "print(test)\n",
    "write_num(test)"
   ]
  },
  {
   "cell_type": "code",
   "execution_count": 154,
   "id": "47830aef-5aa7-4a41-bfcc-cfcda4220b87",
   "metadata": {},
   "outputs": [],
   "source": [
    "def write_num2(gen_str):\n",
    "    man_counter = 0\n",
    "    output = []  # Store messages here\n",
    "\n",
    "    for i in range(0, len(gen_str)):\n",
    "        \n",
    "        if len(gen_str) == 6:  \n",
    "            \n",
    "#            output.append(numbers_dict[int(gen_str[i])])  # Store instead of print\n",
    "            \n",
    "            if man_counter == 0:\n",
    "                if int(gen_str[i]) != 1:\n",
    "                    output.append(numbers_dict[int(gen_str[i])])  # Store instead of print\n",
    "\n",
    "                output.append(numbers_dict[10])   \n",
    "\n",
    "            if man_counter == 1:\n",
    "                output.append(numbers_dict[int(gen_str[i])])  # Store instead of print\n",
    "                output.append(numbers_dict[10000])\n",
    "\n",
    "            if man_counter == 2:\n",
    "                if int(gen_str[i]) != 1:\n",
    "                    output.append(numbers_dict[int(gen_str[i])])  # Store instead of print \n",
    "                if int(gen_str[i]) != 0:\n",
    "                    output.append(numbers_dict[1000])\n",
    "\n",
    "            if man_counter == 3:\n",
    "                if int(gen_str[i]) != 1:\n",
    "                    output.append(numbers_dict[int(gen_str[i])])  # Store instead of print \n",
    "                if int(gen_str[i]) != 0:\n",
    "                    output.append(numbers_dict[100])\n",
    "\n",
    "            if man_counter == 4:\n",
    "                if int(gen_str[i]) != 1:\n",
    "                    output.append(numbers_dict[int(gen_str[i])])  # Store instead of print \n",
    "                if int(gen_str[i]) != 0:\n",
    "                    output.append(numbers_dict[10])\n",
    "                    \n",
    "            if man_counter == 5:\n",
    "                if int(gen_str[i]) != 0:\n",
    "                    output.append(numbers_dict[int(gen_str[i])])\n",
    "        man_counter += 1\n",
    "\n",
    "    return \" \".join(output)  # Return as a single string"
   ]
  },
  {
   "cell_type": "code",
   "execution_count": 145,
   "id": "7e1a3d2f-18b9-4c11-91e8-0590766cc218",
   "metadata": {},
   "outputs": [
    {
     "name": "stdout",
     "output_type": "stream",
     "text": [
      "110000\n",
      "juu ichi man   \n"
     ]
    }
   ],
   "source": [
    "test = '110000'\n",
    "#test = get_rand()\n",
    "print(test)\n",
    "print(write_num2(test))"
   ]
  },
  {
   "cell_type": "code",
   "execution_count": 151,
   "id": "acb1d026-5162-4329-9ddd-d5df2aaaf691",
   "metadata": {},
   "outputs": [
    {
     "name": "stdout",
     "output_type": "stream",
     "text": [
      "337568\n",
      "san juu san man shichi sen go hyaku roku juu hachi\n",
      "175119\n",
      "juu shichi man go sen hyaku juu kyuu\n",
      "971413\n",
      "kyuu juu shichi man sen shi hyaku juu san\n",
      "485498\n",
      "shi juu hachi man go sen shi hyaku kyuu juu hachi\n",
      "445748\n",
      "shi juu shi man go sen shichi hyaku shi juu hachi\n",
      "788663\n",
      "shichi juu hachi man hachi sen roku hyaku roku juu san\n",
      "971765\n",
      "kyuu juu shichi man sen shichi hyaku roku juu go\n",
      "32023\n",
      "\n",
      "834891\n",
      "hachi juu san man shi sen hachi hyaku kyuu juu ichi\n",
      "254291\n",
      "ni juu go man shi sen ni hyaku kyuu juu ichi\n"
     ]
    }
   ],
   "source": [
    "for i in range(0, 10):\n",
    "    ittr = get_rand([1, 999999])\n",
    "    print(ittr)\n",
    "    print(write_num2(ittr))"
   ]
  },
  {
   "cell_type": "code",
   "execution_count": 171,
   "id": "97ca5ca3-58ac-43e8-a43c-efd9a66834cb",
   "metadata": {},
   "outputs": [],
   "source": [
    "def write_num3(gen_str):\n",
    "    man_counter = 0\n",
    "    output = []  # Store messages here\n",
    "    gen_str_len = len(gen_str) - 1\n",
    "\n",
    "    for i in range(0, len(gen_str)):\n",
    "                            \n",
    "        if gen_str_len == 5:\n",
    "            if int(gen_str[i]) != 1:\n",
    "                output.append(numbers_dict[int(gen_str[i])])  # Store instead of print\n",
    "\n",
    "            output.append(numbers_dict[10])   \n",
    "\n",
    "        if gen_str_len == 4:\n",
    "            output.append(numbers_dict[int(gen_str[i])])  # Store instead of print\n",
    "            output.append(numbers_dict[10000])\n",
    "\n",
    "        if gen_str_len == 3:\n",
    "            if int(gen_str[i]) != 1:\n",
    "                output.append(numbers_dict[int(gen_str[i])])  # Store instead of print \n",
    "            if int(gen_str[i]) != 0:\n",
    "                output.append(numbers_dict[1000])\n",
    "\n",
    "        if gen_str_len == 2:\n",
    "            if int(gen_str[i]) != 1:\n",
    "                output.append(numbers_dict[int(gen_str[i])])  # Store instead of print \n",
    "            if int(gen_str[i]) != 0:\n",
    "                output.append(numbers_dict[100])\n",
    "\n",
    "        if gen_str_len == 1:\n",
    "            if int(gen_str[i]) != 1:\n",
    "                output.append(numbers_dict[int(gen_str[i])])  # Store instead of print \n",
    "            if int(gen_str[i]) != 0:\n",
    "                output.append(numbers_dict[10])\n",
    "                \n",
    "        if gen_str_len == 0:\n",
    "            if int(gen_str[i]) != 0:\n",
    "                output.append(numbers_dict[int(gen_str[i])])\n",
    "                    \n",
    "        man_counter += 1\n",
    "        gen_str_len -= 1\n",
    "\n",
    "    return_str = \" \".join(output)  # Return as a single string\n",
    "    return_str = return_str.strip()\n",
    "    return_str = return_str.replace(\"  \", \" \")\n",
    "\n",
    "    return return_str"
   ]
  },
  {
   "cell_type": "code",
   "execution_count": 174,
   "id": "0cfb92e2-f5df-484e-97db-11ea047b96da",
   "metadata": {
    "scrolled": true
   },
   "outputs": [
    {
     "name": "stdout",
     "output_type": "stream",
     "text": [
      "102027\n",
      "juu man ni sen ni juu nana\n",
      "787901\n",
      "nana juu hachi man nana sen kyuu hyaku ichi\n",
      "673452\n",
      "roku juu nana man san sen yon hyaku go juu ni\n",
      "52336\n",
      "go man ni sen san hyaku san juu roku\n",
      "299530\n",
      "ni juu kyuu man kyuu sen go hyaku san juu\n",
      "451323\n",
      "yon juu go man sen san hyaku ni juu san\n",
      "15205\n",
      "ichi man go sen ni hyaku go\n",
      "845422\n",
      "hachi juu yon man go sen yon hyaku ni juu ni\n",
      "330108\n",
      "san juu san man hyaku hachi\n",
      "518726\n",
      "go juu ichi man hachi sen nana hyaku ni juu roku\n"
     ]
    }
   ],
   "source": [
    "for i in range(0, 10):\n",
    "    ittr = get_rand([1, 999999])\n",
    "    print(ittr)\n",
    "    print(write_num3(ittr))"
   ]
  }
 ],
 "metadata": {
  "kernelspec": {
   "display_name": "Python 3 (ipykernel)",
   "language": "python",
   "name": "python3"
  },
  "language_info": {
   "codemirror_mode": {
    "name": "ipython",
    "version": 3
   },
   "file_extension": ".py",
   "mimetype": "text/x-python",
   "name": "python",
   "nbconvert_exporter": "python",
   "pygments_lexer": "ipython3",
   "version": "3.11.7"
  }
 },
 "nbformat": 4,
 "nbformat_minor": 5
}
